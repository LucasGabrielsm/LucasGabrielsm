{
  "cells": [
    {
      "cell_type": "markdown",
      "metadata": {
        "id": "view-in-github",
        "colab_type": "text"
      },
      "source": [
        "<a href=\"https://colab.research.google.com/github/LucasGabrielsm/LucasGabrielsm/blob/main/Untitled0.ipynb\" target=\"_parent\"><img src=\"https://colab.research.google.com/assets/colab-badge.svg\" alt=\"Open In Colab\"/></a>"
      ]
    },
    {
      "cell_type": "code",
      "execution_count": null,
      "metadata": {
        "colab": {
          "background_save": true
        },
        "id": "A0DErhN5jqam"
      },
      "outputs": [],
      "source": []
    },
    {
      "cell_type": "code",
      "execution_count": null,
      "metadata": {
        "colab": {
          "base_uri": "https://localhost:8080/"
        },
        "id": "ibij5_U4hIDz",
        "outputId": "54a31986-960f-4997-8565-d4e329e486dc"
      },
      "outputs": [
        {
          "name": "stdout",
          "output_type": "stream",
          "text": [
            "Digite a mensagem que você quer cifrar: lucas\n",
            "Digite o valor do deslocamento (um número entre 1 e 25): 17\n",
            "Mensagem cifrada: CLTRJ\n",
            "Mensagem decifrada: LUCAS\n",
            "Digite a mensagem: CLTRJ\n",
            "Digite o valor do deslocamento (um número entre 1 e 25): 18\n",
            "Digite 'cifrar' para criptografar ou 'decifrar' para descriptografar: cifrar\n",
            "UDLJB\n"
          ]
        }
      ],
      "source": [
        "def cifra_cesar(texto, deslocamento):\n",
        "  \"\"\"Criptografa ou descriptografa um texto usando a cifra de César.\n",
        "\n",
        "  Args:\n",
        "    texto: A mensagem que você quer esconder ou revelar.\n",
        "    deslocamento: Quantas casas você quer mover as letras do alfabeto.\n",
        "\n",
        "  Returns:\n",
        "    A mensagem codificada ou decodificada.\n",
        "  \"\"\"\n",
        "\n",
        "  alfabeto = 'ABCDEFGHIJKLMNOPQRSTUVWXYZ'\n",
        "  texto_cifrado = ''\n",
        "\n",
        "  for letra in texto:\n",
        "    if letra.upper() in alfabeto:\n",
        "      indice = alfabeto.index(letra.upper())\n",
        "      novo_indice = (indice + deslocamento) % 26\n",
        "      texto_cifrado += alfabeto[novo_indice]\n",
        "    else:\n",
        "      texto_cifrado += letra\n",
        "\n",
        "  return texto_cifrado\n",
        "\n",
        "# Pedimos para o usuário digitar a mensagem e o deslocamento\n",
        "mensagem = input(\"Digite a mensagem que você quer cifrar: \")\n",
        "deslocamento = int(input(\"Digite o valor do deslocamento (um número entre 1 e 25): \"))\n",
        "\n",
        "# Ciframos a mensagem\n",
        "mensagem_cifrada = cifra_cesar(mensagem, deslocamento)\n",
        "print(\"Mensagem cifrada:\", mensagem_cifrada)\n",
        "\n",
        "# Desciframos a mensagem\n",
        "mensagem_decifrada = cifra_cesar(mensagem_cifrada, -deslocamento)\n",
        "print(\"Mensagem decifrada:\", mensagem_decifrada)\n",
        "def cifra_cesar(texto, deslocamento, modo='cifrar'):\n",
        "  \"\"\"Criptografa ou descriptografa um texto usando a cifra de César.\n",
        "\n",
        "  Args:\n",
        "    texto: A mensagem que você quer esconder ou revelar.\n",
        "    deslocamento: Quantas casas você quer mover as letras do alfabeto.\n",
        "    modo: 'cifrar' para criptografar ou 'decifrar' para descriptografar.\n",
        "\n",
        "  Returns:\n",
        "    A mensagem codificada ou decodificada.\n",
        "  \"\"\"\n",
        "\n",
        "  alfabeto = 'ABCDEFGHIJKLMNOPQRSTUVWXYZ'\n",
        "  texto_cifrado = ''\n",
        "\n",
        "  for letra in texto:\n",
        "    if letra.upper() in alfabeto:\n",
        "      indice = alfabeto.index(letra.upper())\n",
        "      if modo == 'cifrar':\n",
        "        novo_indice = (indice + deslocamento) % 26\n",
        "      else:\n",
        "        novo_indice = (indice - deslocamento) % 26\n",
        "      texto_cifrado += alfabeto[novo_indice]\n",
        "    else:\n",
        "      texto_cifrado += letra\n",
        "\n",
        "  return texto_cifrado\n",
        "\n",
        "# Pedimos para o usuário digitar a mensagem, o deslocamento e o modo\n",
        "mensagem = input(\"Digite a mensagem: \")\n",
        "deslocamento = int(input(\"Digite o valor do deslocamento (um número entre 1 e 25): \"))\n",
        "modo = input(\"Digite 'cifrar' para criptografar ou 'decifrar' para descriptografar: \")\n",
        "\n",
        "# Chamamos a função de acordo com o modo escolhido\n",
        "resultado = cifra_cesar(mensagem, deslocamento, modo)\n",
        "\n",
        "# Imprimimos o resultado\n",
        "print(resultado)"
      ]
    },
    {
      "cell_type": "markdown",
      "metadata": {
        "id": "Sb3u3fdMhqSG"
      },
      "source": [
        "Explicação do código:\n",
        "Entrada do usuário: Usamos a função input() para pedir ao usuário que digite a mensagem e o deslocamento.\n",
        "Conversão para inteiro: Convertemos o deslocamento para um número inteiro usando int(), pois precisamos de um número para fazer os cálculos.\n",
        "Chamada da função: Chamamos a função cifra_cesar duas vezes: uma para cifrar e outra para decifrar.\n",
        "Impressão dos resultados: Imprimimos a mensagem cifrada e a mensagem decifrada na tela.\n",
        "Como usar:\n",
        "\n",
        "Execute o código: Rode este código em um ambiente Python.\n",
        "Digite a mensagem: Quando solicitado, digite a mensagem que você quer cifrar.\n",
        "Digite o deslocamento: Escolha um número entre 1 e 25 para determinar o deslocamento das letras.\n",
        "Veja o resultado: O programa irá mostrar a mensagem cifrada e, em seguida, a mensagem decifrada.\n"
      ]
    }
  ],
  "metadata": {
    "colab": {
      "provenance": [],
      "authorship_tag": "ABX9TyPUj94MS2s+meMvo3tt72SO",
      "include_colab_link": true
    },
    "kernelspec": {
      "display_name": "Python 3",
      "name": "python3"
    },
    "language_info": {
      "name": "python"
    }
  },
  "nbformat": 4,
  "nbformat_minor": 0
}